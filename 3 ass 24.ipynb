{
 "cells": [
  {
   "cell_type": "code",
   "execution_count": 5,
   "metadata": {},
   "outputs": [
    {
     "name": "stdout",
     "output_type": "stream",
     "text": [
      "25\n",
      "[1, 2, 3, 160, 5, 6, 7, 320, 9, 10, 11, 480, 13, 14, 15, 640, 17, 18, 19, 800, 21, 22, 23, 960, 25]\n"
     ]
    }
   ],
   "source": [
    "#1\n",
    "def amplify(x):\n",
    "    print([i*40 if i%4==0 else i for i in range(1,x+1)])\n",
    "        \n",
    "            \n",
    "        \n",
    "x=int(input())\n",
    "amplify(x)"
   ]
  },
  {
   "cell_type": "code",
   "execution_count": 21,
   "metadata": {},
   "outputs": [
    {
     "name": "stdout",
     "output_type": "stream",
     "text": [
      "[2]\n"
     ]
    }
   ],
   "source": [
    "#2\n",
    "def unique(l):\n",
    "    a=l[0]\n",
    "    b=[]\n",
    "    for i in range(1,len(l)):\n",
    "        if(a==l[i]):\n",
    "            continue\n",
    "        else:\n",
    "            b.append(l[i])\n",
    "    return b\n",
    "    \n",
    "l=[1,2,1,1,1] #[3,3,3,7,3,3,3],[0,0,0.77,0,0]\n",
    "print(unique(l))\n",
    "\n",
    "\n",
    "    \n",
    "        \n",
    "        \n",
    "        \n",
    "\n"
   ]
  },
  {
   "cell_type": "code",
   "execution_count": 29,
   "metadata": {},
   "outputs": [
    {
     "name": "stdout",
     "output_type": "stream",
     "text": [
      "113.04\n",
      "37.68\n"
     ]
    }
   ],
   "source": [
    "#3\n",
    "class circle:\n",
    "    def __init__(self,rad):\n",
    "        self.rad=rad\n",
    "    def GetArea(self):\n",
    "        return (3.14*(self.rad**2))\n",
    "    def  getPerimeter(self):\n",
    "        return (2*3.14*self.rad)\n",
    "x1=circle(6)\n",
    "print(round(x1.GetArea(),2))\n",
    "print(round(x1.getPerimeter(),2))"
   ]
  },
  {
   "cell_type": "code",
   "execution_count": 51,
   "metadata": {},
   "outputs": [
    {
     "name": "stdout",
     "output_type": "stream",
     "text": [
      "aada\n",
      "bas\n",
      "cs\n"
     ]
    }
   ],
   "source": [
    "#4\n",
    "\n",
    "def resort(m):\n",
    "    for i in range(len(m)):\n",
    "        for j in range(i+1,len(m)):\n",
    "            if(len(m[i])>len(m[j])):\n",
    "                temp=m[i]\n",
    "                m[i]=m[j]\n",
    "                m[j]=temp\n",
    "    return m\n",
    "\n",
    "\n",
    "m=['Google','apple','Microsoft']         #['Turing','Einsteen','Curie']\n",
    "resort(m)\n",
    "    \n",
    "\n",
    "    "
   ]
  },
  {
   "cell_type": "code",
   "execution_count": 35,
   "metadata": {},
   "outputs": [
    {
     "name": "stdout",
     "output_type": "stream",
     "text": [
      "13,5,12\n"
     ]
    },
    {
     "data": {
      "text/plain": [
       "True"
      ]
     },
     "execution_count": 35,
     "metadata": {},
     "output_type": "execute_result"
    }
   ],
   "source": [
    "#5\n",
    "def is_triplet(a):\n",
    "    sum=(a[0]**2+a[1]**2)\n",
    "    return True if sum==a[2]**2 else False\n",
    "   \n",
    "a=list(map(int,input().split(',')))\n",
    "a.sort()\n",
    "is_triplet(a)"
   ]
  },
  {
   "cell_type": "code",
   "execution_count": null,
   "metadata": {},
   "outputs": [],
   "source": []
  }
 ],
 "metadata": {
  "kernelspec": {
   "display_name": "Python 3",
   "language": "python",
   "name": "python3"
  },
  "language_info": {
   "codemirror_mode": {
    "name": "ipython",
    "version": 3
   },
   "file_extension": ".py",
   "mimetype": "text/x-python",
   "name": "python",
   "nbconvert_exporter": "python",
   "pygments_lexer": "ipython3",
   "version": "3.8.3"
  }
 },
 "nbformat": 4,
 "nbformat_minor": 4
}
